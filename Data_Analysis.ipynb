{
  "nbformat": 4,
  "nbformat_minor": 0,
  "metadata": {
    "colab": {
      "provenance": [],
      "authorship_tag": "ABX9TyNHHaHXVAzqxA5YZ75CzEHG",
      "include_colab_link": true
    },
    "kernelspec": {
      "name": "python3",
      "display_name": "Python 3"
    },
    "language_info": {
      "name": "python"
    }
  },
  "cells": [
    {
      "cell_type": "markdown",
      "metadata": {
        "id": "view-in-github",
        "colab_type": "text"
      },
      "source": [
        "<a href=\"https://colab.research.google.com/github/alishahidklair/1.Data-Analysis-Python3/blob/main/Data_Analysis.ipynb\" target=\"_parent\"><img src=\"https://colab.research.google.com/assets/colab-badge.svg\" alt=\"Open In Colab\"/></a>"
      ]
    },
    {
      "cell_type": "code",
      "execution_count": null,
      "metadata": {
        "id": "VTu130rVycgz"
      },
      "outputs": [],
      "source": [
        "import csv\n",
        "import numpy as np\n",
        "from sklearn.svm import SVR\n",
        "import matplotlib.pyplot as plt\n",
        "\n",
        "\n",
        "dates = []\n",
        "prices = []\n",
        "\n",
        "def get_data(filename):\n",
        "  with open(filename, 'r') as csvfile:\n",
        "    csvFileReader = csv.reader(csvfile)\n",
        "    next(csvFileReader)\n",
        "    for row in csvFileReader:\n",
        "      dates.append(int(row[0].split('-')[0]))\n",
        "      prices.append(float(row[1]))\n",
        "  return\n",
        "\n",
        "def predict_price(dates, prices, x):\n",
        "    dates = np.reshape(dates, (len(dates), 1))\n",
        "\n",
        "    svr_lin = SVR(kernel='linear', C=1e3)\n",
        "    svr_poly = SVR(kernel='poly', C=1e3, degree=2)\n",
        "    svr_rbf = SVR(kernel='rbf', C=1e3, gamma=0.1)\n",
        "    svr_lin.fit(dates, prices)\n",
        "    svr_poly.fit(dates, prices)\n",
        "    svr_rbf.fit(dates, prices)\n",
        "\n",
        "    plt.scatter(dates, prices, color='black', label='Data')\n",
        "    plt.plot(dates, svr_lin.predict(dates), color='green', label='Linear model')\n",
        "    plt.plot(dates, svr_poly.predict(dates), color='blue', label='Polynomial model')\n",
        "    plt.plot(dates, svr_rbf.predict(dates), color='red', label='RBF model')\n",
        "    plt.xlabel('Date')\n",
        "    plt.ylabel('Price')\n",
        "    plt.title('Support Vector Regression')\n",
        "    plt.legend()\n",
        "    plt.show()\n",
        "\n",
        "    return svr_rbf.predict(x)[0], svr_lin.predict(x)[0], svr_poly.predict(x)[0]\n",
        "\n",
        "\n",
        "\n",
        "get_data('/content/drive/My Drive/Colab Notebooks/AAPL.csv')\n",
        "\n",
        "predicted_price = predict_price(dates, prices, [[29]])\n",
        "\n",
        "print(predicted_price)\n",
        "\n",
        "\n"
      ]
    }
  ]
}